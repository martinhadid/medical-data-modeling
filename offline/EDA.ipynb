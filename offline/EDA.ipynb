{
 "cells": [
  {
   "cell_type": "markdown",
   "metadata": {},
   "source": [
    "# Imports"
   ]
  },
  {
   "cell_type": "code",
   "execution_count": 1,
   "metadata": {},
   "outputs": [],
   "source": [
    "import pandas as pd\n",
    "import numpy as np\n",
    "import matplotlib.pyplot as plt"
   ]
  },
  {
   "cell_type": "markdown",
   "metadata": {},
   "source": [
    "# Load Data"
   ]
  },
  {
   "cell_type": "code",
   "execution_count": 2,
   "metadata": {},
   "outputs": [],
   "source": [
    "df = pd.read_csv('../data/train_set.csv', parse_dates=['timestamp'])"
   ]
  },
  {
   "cell_type": "markdown",
   "metadata": {},
   "source": [
    "# EDA"
   ]
  },
  {
   "cell_type": "code",
   "execution_count": 3,
   "metadata": {},
   "outputs": [
    {
     "data": {
      "text/html": [
       "<div>\n",
       "<style scoped>\n",
       "    .dataframe tbody tr th:only-of-type {\n",
       "        vertical-align: middle;\n",
       "    }\n",
       "\n",
       "    .dataframe tbody tr th {\n",
       "        vertical-align: top;\n",
       "    }\n",
       "\n",
       "    .dataframe thead th {\n",
       "        text-align: right;\n",
       "    }\n",
       "</style>\n",
       "<table border=\"1\" class=\"dataframe\">\n",
       "  <thead>\n",
       "    <tr style=\"text-align: right;\">\n",
       "      <th></th>\n",
       "      <th>_temporary_index_column</th>\n",
       "      <th>patient_id</th>\n",
       "      <th>timestamp</th>\n",
       "      <th>measurement_x</th>\n",
       "      <th>measurement_y</th>\n",
       "      <th>measurement_z</th>\n",
       "      <th>label</th>\n",
       "    </tr>\n",
       "  </thead>\n",
       "  <tbody>\n",
       "    <tr>\n",
       "      <th>0</th>\n",
       "      <td>1</td>\n",
       "      <td>0</td>\n",
       "      <td>2015-12-29 14:50:34.095</td>\n",
       "      <td>0.811802</td>\n",
       "      <td>0.015569</td>\n",
       "      <td>0.068855</td>\n",
       "      <td>1</td>\n",
       "    </tr>\n",
       "    <tr>\n",
       "      <th>1</th>\n",
       "      <td>2</td>\n",
       "      <td>0</td>\n",
       "      <td>2015-12-29 14:50:34.145</td>\n",
       "      <td>0.808880</td>\n",
       "      <td>0.007757</td>\n",
       "      <td>0.073745</td>\n",
       "      <td>1</td>\n",
       "    </tr>\n",
       "    <tr>\n",
       "      <th>2</th>\n",
       "      <td>3</td>\n",
       "      <td>0</td>\n",
       "      <td>2015-12-29 14:50:34.195</td>\n",
       "      <td>0.806039</td>\n",
       "      <td>-0.000084</td>\n",
       "      <td>0.073402</td>\n",
       "      <td>1</td>\n",
       "    </tr>\n",
       "    <tr>\n",
       "      <th>3</th>\n",
       "      <td>4</td>\n",
       "      <td>0</td>\n",
       "      <td>2015-12-29 14:50:34.245</td>\n",
       "      <td>0.803278</td>\n",
       "      <td>-0.007953</td>\n",
       "      <td>0.075000</td>\n",
       "      <td>1</td>\n",
       "    </tr>\n",
       "    <tr>\n",
       "      <th>4</th>\n",
       "      <td>5</td>\n",
       "      <td>0</td>\n",
       "      <td>2015-12-29 14:50:34.295</td>\n",
       "      <td>0.800599</td>\n",
       "      <td>-0.015851</td>\n",
       "      <td>0.076689</td>\n",
       "      <td>1</td>\n",
       "    </tr>\n",
       "  </tbody>\n",
       "</table>\n",
       "</div>"
      ],
      "text/plain": [
       "   _temporary_index_column  patient_id               timestamp  measurement_x  \\\n",
       "0                        1           0 2015-12-29 14:50:34.095       0.811802   \n",
       "1                        2           0 2015-12-29 14:50:34.145       0.808880   \n",
       "2                        3           0 2015-12-29 14:50:34.195       0.806039   \n",
       "3                        4           0 2015-12-29 14:50:34.245       0.803278   \n",
       "4                        5           0 2015-12-29 14:50:34.295       0.800599   \n",
       "\n",
       "   measurement_y  measurement_z  label  \n",
       "0       0.015569       0.068855      1  \n",
       "1       0.007757       0.073745      1  \n",
       "2      -0.000084       0.073402      1  \n",
       "3      -0.007953       0.075000      1  \n",
       "4      -0.015851       0.076689      1  "
      ]
     },
     "execution_count": 3,
     "metadata": {},
     "output_type": "execute_result"
    }
   ],
   "source": [
    "df.head()"
   ]
  },
  {
   "cell_type": "code",
   "execution_count": 4,
   "metadata": {},
   "outputs": [
    {
     "name": "stdout",
     "output_type": "stream",
     "text": [
      "<class 'pandas.core.frame.DataFrame'>\n",
      "RangeIndex: 799999 entries, 0 to 799998\n",
      "Data columns (total 7 columns):\n",
      " #   Column                   Non-Null Count   Dtype         \n",
      "---  ------                   --------------   -----         \n",
      " 0   _temporary_index_column  799999 non-null  int64         \n",
      " 1   patient_id               799999 non-null  int64         \n",
      " 2   timestamp                799999 non-null  datetime64[ns]\n",
      " 3   measurement_x            799999 non-null  float64       \n",
      " 4   measurement_y            799999 non-null  float64       \n",
      " 5   measurement_z            799999 non-null  float64       \n",
      " 6   label                    799999 non-null  int64         \n",
      "dtypes: datetime64[ns](1), float64(3), int64(3)\n",
      "memory usage: 42.7 MB\n"
     ]
    }
   ],
   "source": [
    "df.info()"
   ]
  },
  {
   "cell_type": "code",
   "execution_count": 5,
   "metadata": {},
   "outputs": [
    {
     "data": {
      "text/html": [
       "<div>\n",
       "<style scoped>\n",
       "    .dataframe tbody tr th:only-of-type {\n",
       "        vertical-align: middle;\n",
       "    }\n",
       "\n",
       "    .dataframe tbody tr th {\n",
       "        vertical-align: top;\n",
       "    }\n",
       "\n",
       "    .dataframe thead th {\n",
       "        text-align: right;\n",
       "    }\n",
       "</style>\n",
       "<table border=\"1\" class=\"dataframe\">\n",
       "  <thead>\n",
       "    <tr style=\"text-align: right;\">\n",
       "      <th></th>\n",
       "      <th>_temporary_index_column</th>\n",
       "      <th>patient_id</th>\n",
       "      <th>measurement_x</th>\n",
       "      <th>measurement_y</th>\n",
       "      <th>measurement_z</th>\n",
       "      <th>label</th>\n",
       "    </tr>\n",
       "  </thead>\n",
       "  <tbody>\n",
       "    <tr>\n",
       "      <th>count</th>\n",
       "      <td>799999.000000</td>\n",
       "      <td>799999.000000</td>\n",
       "      <td>799999.000000</td>\n",
       "      <td>799999.000000</td>\n",
       "      <td>799999.000000</td>\n",
       "      <td>799999.000000</td>\n",
       "    </tr>\n",
       "    <tr>\n",
       "      <th>mean</th>\n",
       "      <td>400000.000000</td>\n",
       "      <td>12848.728287</td>\n",
       "      <td>0.652244</td>\n",
       "      <td>0.148045</td>\n",
       "      <td>0.073163</td>\n",
       "      <td>0.439943</td>\n",
       "    </tr>\n",
       "    <tr>\n",
       "      <th>std</th>\n",
       "      <td>230939.963337</td>\n",
       "      <td>7418.937484</td>\n",
       "      <td>0.241065</td>\n",
       "      <td>0.204066</td>\n",
       "      <td>0.059840</td>\n",
       "      <td>0.691995</td>\n",
       "    </tr>\n",
       "    <tr>\n",
       "      <th>min</th>\n",
       "      <td>1.000000</td>\n",
       "      <td>0.000000</td>\n",
       "      <td>-0.621091</td>\n",
       "      <td>-1.045211</td>\n",
       "      <td>-0.004350</td>\n",
       "      <td>0.000000</td>\n",
       "    </tr>\n",
       "    <tr>\n",
       "      <th>25%</th>\n",
       "      <td>200000.500000</td>\n",
       "      <td>6378.000000</td>\n",
       "      <td>0.478952</td>\n",
       "      <td>0.016042</td>\n",
       "      <td>0.033487</td>\n",
       "      <td>0.000000</td>\n",
       "    </tr>\n",
       "    <tr>\n",
       "      <th>50%</th>\n",
       "      <td>400000.000000</td>\n",
       "      <td>12830.000000</td>\n",
       "      <td>0.611564</td>\n",
       "      <td>0.128319</td>\n",
       "      <td>0.058148</td>\n",
       "      <td>0.000000</td>\n",
       "    </tr>\n",
       "    <tr>\n",
       "      <th>75%</th>\n",
       "      <td>599999.500000</td>\n",
       "      <td>19275.000000</td>\n",
       "      <td>0.797053</td>\n",
       "      <td>0.252838</td>\n",
       "      <td>0.094124</td>\n",
       "      <td>1.000000</td>\n",
       "    </tr>\n",
       "    <tr>\n",
       "      <th>max</th>\n",
       "      <td>799999.000000</td>\n",
       "      <td>25705.000000</td>\n",
       "      <td>1.905430</td>\n",
       "      <td>1.506080</td>\n",
       "      <td>0.478850</td>\n",
       "      <td>2.000000</td>\n",
       "    </tr>\n",
       "  </tbody>\n",
       "</table>\n",
       "</div>"
      ],
      "text/plain": [
       "       _temporary_index_column     patient_id  measurement_x  measurement_y  \\\n",
       "count            799999.000000  799999.000000  799999.000000  799999.000000   \n",
       "mean             400000.000000   12848.728287       0.652244       0.148045   \n",
       "std              230939.963337    7418.937484       0.241065       0.204066   \n",
       "min                   1.000000       0.000000      -0.621091      -1.045211   \n",
       "25%              200000.500000    6378.000000       0.478952       0.016042   \n",
       "50%              400000.000000   12830.000000       0.611564       0.128319   \n",
       "75%              599999.500000   19275.000000       0.797053       0.252838   \n",
       "max              799999.000000   25705.000000       1.905430       1.506080   \n",
       "\n",
       "       measurement_z          label  \n",
       "count  799999.000000  799999.000000  \n",
       "mean        0.073163       0.439943  \n",
       "std         0.059840       0.691995  \n",
       "min        -0.004350       0.000000  \n",
       "25%         0.033487       0.000000  \n",
       "50%         0.058148       0.000000  \n",
       "75%         0.094124       1.000000  \n",
       "max         0.478850       2.000000  "
      ]
     },
     "execution_count": 5,
     "metadata": {},
     "output_type": "execute_result"
    }
   ],
   "source": [
    "df.describe()"
   ]
  },
  {
   "cell_type": "markdown",
   "metadata": {},
   "source": [
    "### Records per Patient"
   ]
  },
  {
   "cell_type": "code",
   "execution_count": 6,
   "metadata": {},
   "outputs": [
    {
     "data": {
      "text/html": [
       "<div>\n",
       "<style scoped>\n",
       "    .dataframe tbody tr th:only-of-type {\n",
       "        vertical-align: middle;\n",
       "    }\n",
       "\n",
       "    .dataframe tbody tr th {\n",
       "        vertical-align: top;\n",
       "    }\n",
       "\n",
       "    .dataframe thead th {\n",
       "        text-align: right;\n",
       "    }\n",
       "</style>\n",
       "<table border=\"1\" class=\"dataframe\">\n",
       "  <thead>\n",
       "    <tr style=\"text-align: right;\">\n",
       "      <th></th>\n",
       "      <th>_temporary_index_column</th>\n",
       "      <th>timestamp</th>\n",
       "      <th>measurement_x</th>\n",
       "      <th>measurement_y</th>\n",
       "      <th>measurement_z</th>\n",
       "      <th>label</th>\n",
       "    </tr>\n",
       "    <tr>\n",
       "      <th>patient_id</th>\n",
       "      <th></th>\n",
       "      <th></th>\n",
       "      <th></th>\n",
       "      <th></th>\n",
       "      <th></th>\n",
       "      <th></th>\n",
       "    </tr>\n",
       "  </thead>\n",
       "  <tbody>\n",
       "    <tr>\n",
       "      <th>22447</th>\n",
       "      <td>1</td>\n",
       "      <td>1</td>\n",
       "      <td>1</td>\n",
       "      <td>1</td>\n",
       "      <td>1</td>\n",
       "      <td>1</td>\n",
       "    </tr>\n",
       "    <tr>\n",
       "      <th>21161</th>\n",
       "      <td>1</td>\n",
       "      <td>1</td>\n",
       "      <td>1</td>\n",
       "      <td>1</td>\n",
       "      <td>1</td>\n",
       "      <td>1</td>\n",
       "    </tr>\n",
       "    <tr>\n",
       "      <th>15318</th>\n",
       "      <td>1</td>\n",
       "      <td>1</td>\n",
       "      <td>1</td>\n",
       "      <td>1</td>\n",
       "      <td>1</td>\n",
       "      <td>1</td>\n",
       "    </tr>\n",
       "    <tr>\n",
       "      <th>15317</th>\n",
       "      <td>1</td>\n",
       "      <td>1</td>\n",
       "      <td>1</td>\n",
       "      <td>1</td>\n",
       "      <td>1</td>\n",
       "      <td>1</td>\n",
       "    </tr>\n",
       "    <tr>\n",
       "      <th>15316</th>\n",
       "      <td>1</td>\n",
       "      <td>1</td>\n",
       "      <td>1</td>\n",
       "      <td>1</td>\n",
       "      <td>1</td>\n",
       "      <td>1</td>\n",
       "    </tr>\n",
       "    <tr>\n",
       "      <th>...</th>\n",
       "      <td>...</td>\n",
       "      <td>...</td>\n",
       "      <td>...</td>\n",
       "      <td>...</td>\n",
       "      <td>...</td>\n",
       "      <td>...</td>\n",
       "    </tr>\n",
       "    <tr>\n",
       "      <th>18961</th>\n",
       "      <td>101</td>\n",
       "      <td>101</td>\n",
       "      <td>101</td>\n",
       "      <td>101</td>\n",
       "      <td>101</td>\n",
       "      <td>101</td>\n",
       "    </tr>\n",
       "    <tr>\n",
       "      <th>10817</th>\n",
       "      <td>101</td>\n",
       "      <td>101</td>\n",
       "      <td>101</td>\n",
       "      <td>101</td>\n",
       "      <td>101</td>\n",
       "      <td>101</td>\n",
       "    </tr>\n",
       "    <tr>\n",
       "      <th>10818</th>\n",
       "      <td>101</td>\n",
       "      <td>101</td>\n",
       "      <td>101</td>\n",
       "      <td>101</td>\n",
       "      <td>101</td>\n",
       "      <td>101</td>\n",
       "    </tr>\n",
       "    <tr>\n",
       "      <th>152</th>\n",
       "      <td>101</td>\n",
       "      <td>101</td>\n",
       "      <td>101</td>\n",
       "      <td>101</td>\n",
       "      <td>101</td>\n",
       "      <td>101</td>\n",
       "    </tr>\n",
       "    <tr>\n",
       "      <th>18960</th>\n",
       "      <td>101</td>\n",
       "      <td>101</td>\n",
       "      <td>101</td>\n",
       "      <td>101</td>\n",
       "      <td>101</td>\n",
       "      <td>101</td>\n",
       "    </tr>\n",
       "  </tbody>\n",
       "</table>\n",
       "<p>25706 rows × 6 columns</p>\n",
       "</div>"
      ],
      "text/plain": [
       "            _temporary_index_column  timestamp  measurement_x  measurement_y  \\\n",
       "patient_id                                                                     \n",
       "22447                             1          1              1              1   \n",
       "21161                             1          1              1              1   \n",
       "15318                             1          1              1              1   \n",
       "15317                             1          1              1              1   \n",
       "15316                             1          1              1              1   \n",
       "...                             ...        ...            ...            ...   \n",
       "18961                           101        101            101            101   \n",
       "10817                           101        101            101            101   \n",
       "10818                           101        101            101            101   \n",
       "152                             101        101            101            101   \n",
       "18960                           101        101            101            101   \n",
       "\n",
       "            measurement_z  label  \n",
       "patient_id                        \n",
       "22447                   1      1  \n",
       "21161                   1      1  \n",
       "15318                   1      1  \n",
       "15317                   1      1  \n",
       "15316                   1      1  \n",
       "...                   ...    ...  \n",
       "18961                 101    101  \n",
       "10817                 101    101  \n",
       "10818                 101    101  \n",
       "152                   101    101  \n",
       "18960                 101    101  \n",
       "\n",
       "[25706 rows x 6 columns]"
      ]
     },
     "execution_count": 6,
     "metadata": {},
     "output_type": "execute_result"
    }
   ],
   "source": [
    "df.groupby('patient_id').count().sort_values(by='measurement_x')"
   ]
  },
  {
   "cell_type": "markdown",
   "metadata": {},
   "source": [
    "There are patients with very few records"
   ]
  },
  {
   "cell_type": "markdown",
   "metadata": {},
   "source": [
    "# Duplicates"
   ]
  },
  {
   "cell_type": "code",
   "execution_count": 7,
   "metadata": {},
   "outputs": [
    {
     "data": {
      "text/html": [
       "<div>\n",
       "<style scoped>\n",
       "    .dataframe tbody tr th:only-of-type {\n",
       "        vertical-align: middle;\n",
       "    }\n",
       "\n",
       "    .dataframe tbody tr th {\n",
       "        vertical-align: top;\n",
       "    }\n",
       "\n",
       "    .dataframe thead th {\n",
       "        text-align: right;\n",
       "    }\n",
       "</style>\n",
       "<table border=\"1\" class=\"dataframe\">\n",
       "  <thead>\n",
       "    <tr style=\"text-align: right;\">\n",
       "      <th></th>\n",
       "      <th>_temporary_index_column</th>\n",
       "      <th>patient_id</th>\n",
       "      <th>timestamp</th>\n",
       "      <th>measurement_x</th>\n",
       "      <th>measurement_y</th>\n",
       "      <th>measurement_z</th>\n",
       "      <th>label</th>\n",
       "    </tr>\n",
       "  </thead>\n",
       "  <tbody>\n",
       "    <tr>\n",
       "      <th>31</th>\n",
       "      <td>32</td>\n",
       "      <td>1</td>\n",
       "      <td>2015-12-29 14:50:35.896440</td>\n",
       "      <td>0.811802</td>\n",
       "      <td>0.015569</td>\n",
       "      <td>0.068855</td>\n",
       "      <td>1</td>\n",
       "    </tr>\n",
       "    <tr>\n",
       "      <th>32</th>\n",
       "      <td>33</td>\n",
       "      <td>1</td>\n",
       "      <td>2015-12-29 14:50:35.946440</td>\n",
       "      <td>0.808880</td>\n",
       "      <td>0.007757</td>\n",
       "      <td>0.073745</td>\n",
       "      <td>1</td>\n",
       "    </tr>\n",
       "    <tr>\n",
       "      <th>33</th>\n",
       "      <td>34</td>\n",
       "      <td>1</td>\n",
       "      <td>2015-12-29 14:50:35.996440</td>\n",
       "      <td>0.806039</td>\n",
       "      <td>-0.000084</td>\n",
       "      <td>0.073402</td>\n",
       "      <td>1</td>\n",
       "    </tr>\n",
       "    <tr>\n",
       "      <th>34</th>\n",
       "      <td>35</td>\n",
       "      <td>1</td>\n",
       "      <td>2015-12-29 14:50:36.046440</td>\n",
       "      <td>0.803278</td>\n",
       "      <td>-0.007953</td>\n",
       "      <td>0.075000</td>\n",
       "      <td>1</td>\n",
       "    </tr>\n",
       "    <tr>\n",
       "      <th>35</th>\n",
       "      <td>36</td>\n",
       "      <td>1</td>\n",
       "      <td>2015-12-29 14:50:36.096440</td>\n",
       "      <td>0.800599</td>\n",
       "      <td>-0.015851</td>\n",
       "      <td>0.076689</td>\n",
       "      <td>1</td>\n",
       "    </tr>\n",
       "    <tr>\n",
       "      <th>...</th>\n",
       "      <td>...</td>\n",
       "      <td>...</td>\n",
       "      <td>...</td>\n",
       "      <td>...</td>\n",
       "      <td>...</td>\n",
       "      <td>...</td>\n",
       "      <td>...</td>\n",
       "    </tr>\n",
       "    <tr>\n",
       "      <th>799980</th>\n",
       "      <td>799981</td>\n",
       "      <td>25704</td>\n",
       "      <td>2014-06-25 20:17:52.166980</td>\n",
       "      <td>0.750092</td>\n",
       "      <td>0.482636</td>\n",
       "      <td>0.017884</td>\n",
       "      <td>0</td>\n",
       "    </tr>\n",
       "    <tr>\n",
       "      <th>799981</th>\n",
       "      <td>799982</td>\n",
       "      <td>25704</td>\n",
       "      <td>2014-06-25 20:17:52.216980</td>\n",
       "      <td>0.750124</td>\n",
       "      <td>0.486915</td>\n",
       "      <td>0.014220</td>\n",
       "      <td>0</td>\n",
       "    </tr>\n",
       "    <tr>\n",
       "      <th>799982</th>\n",
       "      <td>799983</td>\n",
       "      <td>25704</td>\n",
       "      <td>2014-06-25 20:17:52.266980</td>\n",
       "      <td>0.750114</td>\n",
       "      <td>0.491194</td>\n",
       "      <td>0.010904</td>\n",
       "      <td>0</td>\n",
       "    </tr>\n",
       "    <tr>\n",
       "      <th>799983</th>\n",
       "      <td>799984</td>\n",
       "      <td>25704</td>\n",
       "      <td>2014-06-25 20:17:52.316980</td>\n",
       "      <td>0.750060</td>\n",
       "      <td>0.495473</td>\n",
       "      <td>0.006120</td>\n",
       "      <td>0</td>\n",
       "    </tr>\n",
       "    <tr>\n",
       "      <th>799984</th>\n",
       "      <td>799985</td>\n",
       "      <td>25704</td>\n",
       "      <td>2014-06-25 20:17:52.366980</td>\n",
       "      <td>0.749963</td>\n",
       "      <td>0.499752</td>\n",
       "      <td>0.000224</td>\n",
       "      <td>0</td>\n",
       "    </tr>\n",
       "  </tbody>\n",
       "</table>\n",
       "<p>599739 rows × 7 columns</p>\n",
       "</div>"
      ],
      "text/plain": [
       "        _temporary_index_column  patient_id                  timestamp  \\\n",
       "31                           32           1 2015-12-29 14:50:35.896440   \n",
       "32                           33           1 2015-12-29 14:50:35.946440   \n",
       "33                           34           1 2015-12-29 14:50:35.996440   \n",
       "34                           35           1 2015-12-29 14:50:36.046440   \n",
       "35                           36           1 2015-12-29 14:50:36.096440   \n",
       "...                         ...         ...                        ...   \n",
       "799980                   799981       25704 2014-06-25 20:17:52.166980   \n",
       "799981                   799982       25704 2014-06-25 20:17:52.216980   \n",
       "799982                   799983       25704 2014-06-25 20:17:52.266980   \n",
       "799983                   799984       25704 2014-06-25 20:17:52.316980   \n",
       "799984                   799985       25704 2014-06-25 20:17:52.366980   \n",
       "\n",
       "        measurement_x  measurement_y  measurement_z  label  \n",
       "31           0.811802       0.015569       0.068855      1  \n",
       "32           0.808880       0.007757       0.073745      1  \n",
       "33           0.806039      -0.000084       0.073402      1  \n",
       "34           0.803278      -0.007953       0.075000      1  \n",
       "35           0.800599      -0.015851       0.076689      1  \n",
       "...               ...            ...            ...    ...  \n",
       "799980       0.750092       0.482636       0.017884      0  \n",
       "799981       0.750124       0.486915       0.014220      0  \n",
       "799982       0.750114       0.491194       0.010904      0  \n",
       "799983       0.750060       0.495473       0.006120      0  \n",
       "799984       0.749963       0.499752       0.000224      0  \n",
       "\n",
       "[599739 rows x 7 columns]"
      ]
     },
     "execution_count": 7,
     "metadata": {},
     "output_type": "execute_result"
    }
   ],
   "source": [
    "df[df.duplicated(subset=['measurement_x', 'measurement_y', 'measurement_z', 'label'])]"
   ]
  },
  {
   "cell_type": "markdown",
   "metadata": {},
   "source": [
    "### Time Interval Distribution"
   ]
  },
  {
   "cell_type": "code",
   "execution_count": 8,
   "metadata": {},
   "outputs": [],
   "source": [
    "df['time_interval'] = df.groupby('patient_id')['timestamp'].diff(1)\n",
    "df['time_interval'] = df['time_interval'].fillna(pd.Timedelta(0))\n",
    "df['time_interval'] = df['time_interval'].dt.total_seconds()"
   ]
  },
  {
   "cell_type": "code",
   "execution_count": 9,
   "metadata": {},
   "outputs": [
    {
     "data": {
      "text/plain": [
       "<AxesSubplot:ylabel='Frequency'>"
      ]
     },
     "execution_count": 9,
     "metadata": {},
     "output_type": "execute_result"
    },
    {
     "data": {
      "image/png": "[encoded data removed]",
      "text/plain": [
       "<Figure size 432x288 with 1 Axes>"
      ]
     },
     "metadata": {
      "needs_background": "light"
     },
     "output_type": "display_data"
    }
   ],
   "source": [
    "df['time_interval'].plot.hist()"
   ]
  },
  {
   "cell_type": "markdown",
   "metadata": {},
   "source": [
    "Time interval for most of the measurements is every 0.05 for most"
   ]
  },
  {
   "cell_type": "markdown",
   "metadata": {},
   "source": [
    "### Accumulated Time Distribution"
   ]
  },
  {
   "cell_type": "code",
   "execution_count": 10,
   "metadata": {},
   "outputs": [],
   "source": [
    "df['accum_time'] = df.groupby('patient_id')['time_interval'].cumsum()"
   ]
  },
  {
   "cell_type": "code",
   "execution_count": 11,
   "metadata": {},
   "outputs": [
    {
     "data": {
      "text/plain": [
       "<AxesSubplot:ylabel='Frequency'>"
      ]
     },
     "execution_count": 11,
     "metadata": {},
     "output_type": "execute_result"
    },
    {
     "data": {
      "image/png": "[encoded data removed]",
      "text/plain": [
       "<Figure size 432x288 with 1 Axes>"
      ]
     },
     "metadata": {
      "needs_background": "light"
     },
     "output_type": "display_data"
    }
   ],
   "source": [
    "df.groupby('patient_id')['accum_time'].last().plot.hist()"
   ]
  },
  {
   "cell_type": "markdown",
   "metadata": {},
   "source": [
    "Most of the patients measurements are between 1 and 2 minutes"
   ]
  },
  {
   "cell_type": "markdown",
   "metadata": {},
   "source": [
    "### Measurements plots"
   ]
  },
  {
   "cell_type": "code",
   "execution_count": 12,
   "metadata": {},
   "outputs": [
    {
     "data": {
      "text/plain": [
       "<AxesSubplot:>"
      ]
     },
     "execution_count": 12,
     "metadata": {},
     "output_type": "execute_result"
    },
    {
     "data": {
      "image/png": "[encoded data removed]",
      "text/plain": [
       "<Figure size 1080x504 with 2 Axes>"
      ]
     },
     "metadata": {
      "needs_background": "light"
     },
     "output_type": "display_data"
    }
   ],
   "source": [
    "fig, (ax1, ax2) = plt.subplots(1, 2, figsize=(15, 7))\n",
    "df[df.patient_id == 3]['measurement_x'].plot(ax=ax1)\n",
    "df[df.patient_id == 4]['measurement_x'].plot(ax=ax2)"
   ]
  },
  {
   "cell_type": "markdown",
   "metadata": {},
   "source": [
    "The shape of the measure X can be modeled as quadratic or linear"
   ]
  },
  {
   "cell_type": "code",
   "execution_count": 13,
   "metadata": {},
   "outputs": [
    {
     "data": {
      "text/plain": [
       "<AxesSubplot:>"
      ]
     },
     "execution_count": 13,
     "metadata": {},
     "output_type": "execute_result"
    },
    {
     "data": {
      "image/png": "[encoded data removed]",
      "text/plain": [
       "<Figure size 1080x504 with 2 Axes>"
      ]
     },
     "metadata": {
      "needs_background": "light"
     },
     "output_type": "display_data"
    }
   ],
   "source": [
    "fig, (ax1, ax2) = plt.subplots(1, 2, figsize=(15, 7))\n",
    "df[df.patient_id == 3]['measurement_y'].plot(ax=ax1)\n",
    "df[df.patient_id == 4]['measurement_y'].plot(ax=ax2)"
   ]
  },
  {
   "cell_type": "markdown",
   "metadata": {},
   "source": [
    "The shape of the measurement y over can be modeled as linear"
   ]
  },
  {
   "cell_type": "code",
   "execution_count": 14,
   "metadata": {},
   "outputs": [
    {
     "data": {
      "text/plain": [
       "<AxesSubplot:>"
      ]
     },
     "execution_count": 14,
     "metadata": {},
     "output_type": "execute_result"
    },
    {
     "data": {
      "image/png": "[encoded data removed]",
      "text/plain": [
       "<Figure size 1080x504 with 2 Axes>"
      ]
     },
     "metadata": {
      "needs_background": "light"
     },
     "output_type": "display_data"
    }
   ],
   "source": [
    "fig, (ax1, ax2) = plt.subplots(1, 2, figsize=(15, 7))\n",
    "df[df.patient_id == 3]['measurement_z'].plot(ax=ax1)\n",
    "df[df.patient_id == 4]['measurement_z'].plot(ax=ax2)"
   ]
  },
  {
   "cell_type": "markdown",
   "metadata": {},
   "source": [
    "The shape of the measurement Z can be modeled as quadratic or linear"
   ]
  },
  {
   "cell_type": "markdown",
   "metadata": {},
   "source": [
    "### Distribution of classes"
   ]
  },
  {
   "cell_type": "code",
   "execution_count": 15,
   "metadata": {},
   "outputs": [
    {
     "name": "stdout",
     "output_type": "stream",
     "text": [
      "For each patient there is only one label\n"
     ]
    }
   ],
   "source": [
    "assert all(df.groupby('patient_id').mean()['label'].unique() == [1, 0, 2])\n",
    "print('For each patient there is only one label')"
   ]
  },
  {
   "cell_type": "code",
   "execution_count": 16,
   "metadata": {},
   "outputs": [
    {
     "data": {
      "text/plain": [
       "<AxesSubplot:ylabel='label'>"
      ]
     },
     "execution_count": 16,
     "metadata": {},
     "output_type": "execute_result"
    },
    {
     "data": {
      "image/png": "[encoded data removed]",
      "text/plain": [
       "<Figure size 1080x504 with 2 Axes>"
      ]
     },
     "metadata": {
      "needs_background": "light"
     },
     "output_type": "display_data"
    }
   ],
   "source": [
    "fig, (ax1, ax2) = plt.subplots(1, 2, figsize=(15, 7))\n",
    "labels = df.groupby('patient_id')['label'].first()\n",
    "labels.value_counts().plot.bar(ax=ax1)\n",
    "labels.value_counts().plot.pie(ax=ax2)"
   ]
  },
  {
   "cell_type": "markdown",
   "metadata": {},
   "source": [
    "Classes are not balanced"
   ]
  },
  {
   "cell_type": "code",
   "execution_count": null,
   "metadata": {},
   "outputs": [],
   "source": []
  }
 ],
 "metadata": {
  "kernelspec": {
   "display_name": "Python 3",
   "language": "python",
   "name": "python3"
  },
  "language_info": {
   "codemirror_mode": {
    "name": "ipython",
    "version": 3
   },
   "file_extension": ".py",
   "mimetype": "text/x-python",
   "name": "python",
   "nbconvert_exporter": "python",
   "pygments_lexer": "ipython3",
   "version": "3.8.5"
  }
 },
 "nbformat": 4,
 "nbformat_minor": 4
}
