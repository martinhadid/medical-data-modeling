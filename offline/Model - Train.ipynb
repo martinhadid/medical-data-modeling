{
 "cells": [
  {
   "cell_type": "markdown",
   "metadata": {},
   "source": [
    "# Imports"
   ]
  },
  {
   "cell_type": "code",
   "execution_count": 1,
   "metadata": {},
   "outputs": [],
   "source": [
    "import pandas as pd\n",
    "import numpy as np\n",
    "from lightgbm import plot_importance\n",
    "import matplotlib.pyplot as plt\n",
    "from sklearn.model_selection import train_test_split\n",
    "from warnings import filterwarnings\n",
    "filterwarnings('ignore')\n",
    "from ipynb.fs.full.helper import get_linear_reg, get_quadratic_reg, plot_confusion_matrix, fit_model, eval_pred, eval_model"
   ]
  },
  {
   "cell_type": "markdown",
   "metadata": {},
   "source": [
    "# Load Data"
   ]
  },
  {
   "cell_type": "code",
   "execution_count": 2,
   "metadata": {},
   "outputs": [],
   "source": [
    "df = pd.read_csv('../data/train_set.csv', parse_dates=['timestamp'])"
   ]
  },
  {
   "cell_type": "markdown",
   "metadata": {},
   "source": [
    "The goal of this model is to predict the label for each patient. "
   ]
  },
  {
   "cell_type": "code",
   "execution_count": 3,
   "metadata": {},
   "outputs": [],
   "source": [
    "MEASUREMENTS = ['measurement_x', 'measurement_y', 'measurement_z']"
   ]
  },
  {
   "cell_type": "markdown",
   "metadata": {},
   "source": [
    "Measurements may be KPIs such as oxygen saturation, ejection fraction from the left ventricle or an overall score of the patient status based on other indicators. \\\n",
    "Classes may be 0: low health risk, 1: medium health risk, 2: high health risk."
   ]
  },
  {
   "cell_type": "code",
   "execution_count": 4,
   "metadata": {},
   "outputs": [],
   "source": [
    "features = [df.groupby('patient_id')[measure].apply(list) for measure in MEASUREMENTS]\n",
    "label = df.groupby('patient_id')['label'].first()\n",
    "df_patients = pd.concat(features, axis=1).reset_index()\n",
    "df_patients = pd.concat([df_patients, label], axis=1)"
   ]
  },
  {
   "cell_type": "markdown",
   "metadata": {},
   "source": [
    "As patients have 1 label, I group their measurements."
   ]
  },
  {
   "cell_type": "markdown",
   "metadata": {},
   "source": [
    "# Feature Engineering"
   ]
  },
  {
   "cell_type": "markdown",
   "metadata": {},
   "source": [
    "## Statistical Measures by Patient"
   ]
  },
  {
   "cell_type": "markdown",
   "metadata": {},
   "source": [
    "I created features to reflect the data points variability and central tendency."
   ]
  },
  {
   "cell_type": "code",
   "execution_count": 5,
   "metadata": {},
   "outputs": [],
   "source": [
    "for measure in MEASUREMENTS:\n",
    "    df_patients[f'{measure}_std'] = df_patients[measure].apply(np.std)\n",
    "    df_patients[f'{measure}_mean'] = df_patients[measure].apply(np.mean)    \n",
    "    df_patients[f'{measure}_median'] = df_patients[measure].apply(np.median)"
   ]
  },
  {
   "cell_type": "markdown",
   "metadata": {},
   "source": [
    "## Linear Regression Measures by Patient"
   ]
  },
  {
   "cell_type": "markdown",
   "metadata": {},
   "source": [
    "I built a linear regression for each feature, used the slope to represent the data variation (+ or -) for each measurement and the correlation coefficient to understand measurements relationship."
   ]
  },
  {
   "cell_type": "code",
   "execution_count": 6,
   "metadata": {},
   "outputs": [],
   "source": [
    "for measure in MEASUREMENTS:\n",
    "    df_patients[[f'{measure}_lr_slope', f'{measure}_lr_corr']] = df_patients.apply(lambda row: get_linear_reg(row[measure]), axis=1, result_type=\"expand\")"
   ]
  },
  {
   "cell_type": "markdown",
   "metadata": {},
   "source": [
    "## Quadratic Regression Measures by Patient"
   ]
  },
  {
   "cell_type": "markdown",
   "metadata": {},
   "source": [
    "I create a feature using the coefficients of the quadratic regression function to input data about the shape and variation of the data points"
   ]
  },
  {
   "cell_type": "code",
   "execution_count": 7,
   "metadata": {},
   "outputs": [],
   "source": [
    "for measure in MEASUREMENTS:\n",
    "    df_patients[[f'{measure}_quad_a', f'{measure}_quad_b']] = df_patients.apply(lambda row: get_quadratic_reg(row[measure]), axis=1, result_type=\"expand\")"
   ]
  },
  {
   "cell_type": "markdown",
   "metadata": {},
   "source": [
    "The features I added can provide information for patient with few records."
   ]
  },
  {
   "cell_type": "markdown",
   "metadata": {},
   "source": [
    "# Model"
   ]
  },
  {
   "cell_type": "code",
   "execution_count": 8,
   "metadata": {},
   "outputs": [],
   "source": [
    "model_df = df_patients.drop(['patient_id', 'measurement_x', 'measurement_y', 'measurement_z'], axis=1)"
   ]
  },
  {
   "cell_type": "markdown",
   "metadata": {},
   "source": [
    "Split the set to validate the training and make predictions"
   ]
  },
  {
   "cell_type": "code",
   "execution_count": 9,
   "metadata": {},
   "outputs": [],
   "source": [
    "X, y = model_df.drop('label', axis=1), model_df['label']\n",
    "X_train, X_test, y_train, y_test = train_test_split(X, y, test_size=0.2, stratify=y)\n",
    "X_train, X_eval, y_train, y_eval = train_test_split(X_train, y_train, test_size=0.2, stratify=y_train)"
   ]
  },
  {
   "cell_type": "markdown",
   "metadata": {},
   "source": [
    "The model is a LightGBM classifier, trains fast and can deal with NaN values."
   ]
  },
  {
   "cell_type": "code",
   "execution_count": 17,
   "metadata": {
    "scrolled": true
   },
   "outputs": [
    {
     "ename": "TypeError",
     "evalue": "fit_model() got an unexpected keyword argument 'verbose'",
     "output_type": "error",
     "traceback": [
      "\u001b[0;31m---------------------------------------------------------------------------\u001b[0m",
      "\u001b[0;31mTypeError\u001b[0m                                 Traceback (most recent call last)",
      "\u001b[0;32m<ipython-input-17-a84fcbe4629d>\u001b[0m in \u001b[0;36m<module>\u001b[0;34m\u001b[0m\n\u001b[0;32m----> 1\u001b[0;31m \u001b[0mmodel\u001b[0m \u001b[0;34m=\u001b[0m \u001b[0mfit_model\u001b[0m\u001b[0;34m(\u001b[0m\u001b[0mX_train\u001b[0m\u001b[0;34m,\u001b[0m \u001b[0my_train\u001b[0m\u001b[0;34m,\u001b[0m \u001b[0mX_eval\u001b[0m\u001b[0;34m,\u001b[0m \u001b[0my_eval\u001b[0m\u001b[0;34m,\u001b[0m \u001b[0mverbose\u001b[0m\u001b[0;34m=\u001b[0m\u001b[0;32mFalse\u001b[0m\u001b[0;34m)\u001b[0m\u001b[0;34m\u001b[0m\u001b[0;34m\u001b[0m\u001b[0m\n\u001b[0m",
      "\u001b[0;31mTypeError\u001b[0m: fit_model() got an unexpected keyword argument 'verbose'"
     ]
    }
   ],
   "source": [
    "model = fit_model(X_train, y_train, X_eval, y_eval, verbose=False)"
   ]
  },
  {
   "cell_type": "markdown",
   "metadata": {},
   "source": [
    "# Evaluation"
   ]
  },
  {
   "cell_type": "code",
   "execution_count": 11,
   "metadata": {},
   "outputs": [
    {
     "name": "stdout",
     "output_type": "stream",
     "text": [
      "              precision    recall  f1-score   support\n",
      "\n",
      "           0       1.00      1.00      1.00      3523\n",
      "           1       1.00      0.99      1.00      1243\n",
      "           2       1.00      1.00      1.00       376\n",
      "\n",
      "    accuracy                           1.00      5142\n",
      "   macro avg       1.00      1.00      1.00      5142\n",
      "weighted avg       1.00      1.00      1.00      5142\n",
      "\n"
     ]
    },
    {
     "data": {
      "image/png": "[encoded data removed]",
      "text/plain": [
       "<Figure size 432x288 with 2 Axes>"
      ]
     },
     "metadata": {
      "needs_background": "light"
     },
     "output_type": "display_data"
    }
   ],
   "source": [
    "eval_pred(model, X_test, y_test)"
   ]
  },
  {
   "cell_type": "markdown",
   "metadata": {},
   "source": [
    "The model predicts the class well but the thresholds can be modified to reduce errors"
   ]
  },
  {
   "cell_type": "code",
   "execution_count": 12,
   "metadata": {
    "scrolled": true
   },
   "outputs": [
    {
     "name": "stdout",
     "output_type": "stream",
     "text": [
      "Cross-Validation splits score: [1. 1. 1. 1. 1. 1. 1. 1. 1. 1. 1. 1. 1. 1. 1. 1. 1. 1. 1. 1.]\n"
     ]
    }
   ],
   "source": [
    "eval_model(model, X, y)"
   ]
  },
  {
   "cell_type": "code",
   "execution_count": 13,
   "metadata": {},
   "outputs": [
    {
     "data": {
      "text/plain": [
       "<AxesSubplot:title={'center':'Feature importance'}, xlabel='Feature importance', ylabel='Features'>"
      ]
     },
     "execution_count": 13,
     "metadata": {},
     "output_type": "execute_result"
    },
    {
     "data": {
      "image/png": "[encoded data removed]",
      "text/plain": [
       "<Figure size 432x288 with 1 Axes>"
      ]
     },
     "metadata": {
      "needs_background": "light"
     },
     "output_type": "display_data"
    }
   ],
   "source": [
    "plot_importance(model)"
   ]
  },
  {
   "cell_type": "markdown",
   "metadata": {},
   "source": [
    "# Retrain with all the data "
   ]
  },
  {
   "cell_type": "code",
   "execution_count": 14,
   "metadata": {},
   "outputs": [],
   "source": [
    "X, y = model_df.drop('label', axis=1), model_df['label']\n",
    "X_train, X_eval, y_train, y_eval = train_test_split(X, y, test_size=0.2, stratify=y)"
   ]
  },
  {
   "cell_type": "code",
   "execution_count": 15,
   "metadata": {
    "scrolled": true
   },
   "outputs": [
    {
     "name": "stdout",
     "output_type": "stream",
     "text": [
      "[1]\tvalid_0's multi_logloss: 0.718448\n",
      "[2]\tvalid_0's multi_logloss: 0.661703\n",
      "[3]\tvalid_0's multi_logloss: 0.613591\n",
      "[4]\tvalid_0's multi_logloss: 0.572062\n",
      "[5]\tvalid_0's multi_logloss: 0.53528\n",
      "[6]\tvalid_0's multi_logloss: 0.502267\n",
      "[7]\tvalid_0's multi_logloss: 0.47235\n",
      "[8]\tvalid_0's multi_logloss: 0.445749\n",
      "[9]\tvalid_0's multi_logloss: 0.421386\n",
      "[10]\tvalid_0's multi_logloss: 0.399061\n",
      "[11]\tvalid_0's multi_logloss: 0.37859\n",
      "[12]\tvalid_0's multi_logloss: 0.360053\n",
      "[13]\tvalid_0's multi_logloss: 0.342872\n",
      "[14]\tvalid_0's multi_logloss: 0.327438\n",
      "[15]\tvalid_0's multi_logloss: 0.312507\n",
      "[16]\tvalid_0's multi_logloss: 0.298357\n",
      "[17]\tvalid_0's multi_logloss: 0.28504\n",
      "[18]\tvalid_0's multi_logloss: 0.272475\n",
      "[19]\tvalid_0's multi_logloss: 0.261024\n",
      "[20]\tvalid_0's multi_logloss: 0.250097\n",
      "[21]\tvalid_0's multi_logloss: 0.239908\n",
      "[22]\tvalid_0's multi_logloss: 0.2302\n",
      "[23]\tvalid_0's multi_logloss: 0.221372\n",
      "[24]\tvalid_0's multi_logloss: 0.212597\n",
      "[25]\tvalid_0's multi_logloss: 0.204451\n",
      "[26]\tvalid_0's multi_logloss: 0.196955\n",
      "[27]\tvalid_0's multi_logloss: 0.189932\n",
      "[28]\tvalid_0's multi_logloss: 0.183483\n",
      "[29]\tvalid_0's multi_logloss: 0.177107\n",
      "[30]\tvalid_0's multi_logloss: 0.171091\n",
      "[31]\tvalid_0's multi_logloss: 0.165692\n",
      "[32]\tvalid_0's multi_logloss: 0.160033\n",
      "[33]\tvalid_0's multi_logloss: 0.154648\n",
      "[34]\tvalid_0's multi_logloss: 0.149416\n",
      "[35]\tvalid_0's multi_logloss: 0.144552\n",
      "[36]\tvalid_0's multi_logloss: 0.139712\n",
      "[37]\tvalid_0's multi_logloss: 0.135308\n",
      "[38]\tvalid_0's multi_logloss: 0.130881\n",
      "[39]\tvalid_0's multi_logloss: 0.126777\n",
      "[40]\tvalid_0's multi_logloss: 0.122936\n",
      "[41]\tvalid_0's multi_logloss: 0.119194\n",
      "[42]\tvalid_0's multi_logloss: 0.115713\n",
      "[43]\tvalid_0's multi_logloss: 0.112341\n",
      "[44]\tvalid_0's multi_logloss: 0.108939\n",
      "[45]\tvalid_0's multi_logloss: 0.105969\n",
      "[46]\tvalid_0's multi_logloss: 0.10307\n",
      "[47]\tvalid_0's multi_logloss: 0.100164\n",
      "[48]\tvalid_0's multi_logloss: 0.0973711\n",
      "[49]\tvalid_0's multi_logloss: 0.0947935\n",
      "[50]\tvalid_0's multi_logloss: 0.0923232\n",
      "[51]\tvalid_0's multi_logloss: 0.0898693\n",
      "[52]\tvalid_0's multi_logloss: 0.0874057\n",
      "[53]\tvalid_0's multi_logloss: 0.0853582\n",
      "[54]\tvalid_0's multi_logloss: 0.0832726\n",
      "[55]\tvalid_0's multi_logloss: 0.0810249\n",
      "[56]\tvalid_0's multi_logloss: 0.078852\n",
      "[57]\tvalid_0's multi_logloss: 0.0767581\n",
      "[58]\tvalid_0's multi_logloss: 0.0746892\n",
      "[59]\tvalid_0's multi_logloss: 0.0728261\n",
      "[60]\tvalid_0's multi_logloss: 0.0711356\n",
      "[61]\tvalid_0's multi_logloss: 0.0695696\n",
      "[62]\tvalid_0's multi_logloss: 0.0675851\n",
      "[63]\tvalid_0's multi_logloss: 0.0658456\n",
      "[64]\tvalid_0's multi_logloss: 0.0642515\n",
      "[65]\tvalid_0's multi_logloss: 0.0626533\n",
      "[66]\tvalid_0's multi_logloss: 0.0611603\n",
      "[67]\tvalid_0's multi_logloss: 0.0597181\n",
      "[68]\tvalid_0's multi_logloss: 0.0582677\n",
      "[69]\tvalid_0's multi_logloss: 0.0569602\n",
      "[70]\tvalid_0's multi_logloss: 0.0557037\n",
      "[71]\tvalid_0's multi_logloss: 0.0544311\n",
      "[72]\tvalid_0's multi_logloss: 0.0532236\n",
      "[73]\tvalid_0's multi_logloss: 0.0520436\n",
      "[74]\tvalid_0's multi_logloss: 0.0509451\n",
      "[75]\tvalid_0's multi_logloss: 0.0498922\n",
      "[76]\tvalid_0's multi_logloss: 0.0487552\n",
      "[77]\tvalid_0's multi_logloss: 0.047584\n",
      "[78]\tvalid_0's multi_logloss: 0.0465161\n",
      "[79]\tvalid_0's multi_logloss: 0.0454617\n",
      "[80]\tvalid_0's multi_logloss: 0.0443731\n",
      "[81]\tvalid_0's multi_logloss: 0.0434673\n",
      "[82]\tvalid_0's multi_logloss: 0.0425299\n",
      "[83]\tvalid_0's multi_logloss: 0.0416014\n",
      "[84]\tvalid_0's multi_logloss: 0.0408443\n",
      "[85]\tvalid_0's multi_logloss: 0.0400242\n",
      "[86]\tvalid_0's multi_logloss: 0.0392445\n",
      "[87]\tvalid_0's multi_logloss: 0.038406\n",
      "[88]\tvalid_0's multi_logloss: 0.037516\n",
      "[89]\tvalid_0's multi_logloss: 0.0367867\n",
      "[90]\tvalid_0's multi_logloss: 0.0359682\n",
      "[91]\tvalid_0's multi_logloss: 0.0352204\n",
      "[92]\tvalid_0's multi_logloss: 0.0344377\n",
      "[93]\tvalid_0's multi_logloss: 0.0337555\n",
      "[94]\tvalid_0's multi_logloss: 0.0329929\n",
      "[95]\tvalid_0's multi_logloss: 0.0323229\n",
      "[96]\tvalid_0's multi_logloss: 0.0316631\n",
      "[97]\tvalid_0's multi_logloss: 0.0310747\n",
      "[98]\tvalid_0's multi_logloss: 0.0303551\n",
      "[99]\tvalid_0's multi_logloss: 0.0297017\n",
      "[100]\tvalid_0's multi_logloss: 0.0291406\n",
      "[101]\tvalid_0's multi_logloss: 0.0286197\n",
      "[102]\tvalid_0's multi_logloss: 0.0280519\n",
      "[103]\tvalid_0's multi_logloss: 0.0275199\n",
      "[104]\tvalid_0's multi_logloss: 0.0270499\n",
      "[105]\tvalid_0's multi_logloss: 0.026576\n",
      "[106]\tvalid_0's multi_logloss: 0.0260728\n",
      "[107]\tvalid_0's multi_logloss: 0.0255377\n",
      "[108]\tvalid_0's multi_logloss: 0.0248643\n",
      "[109]\tvalid_0's multi_logloss: 0.0244086\n",
      "[110]\tvalid_0's multi_logloss: 0.0239462\n",
      "[111]\tvalid_0's multi_logloss: 0.0235018\n",
      "[112]\tvalid_0's multi_logloss: 0.0230688\n",
      "[113]\tvalid_0's multi_logloss: 0.0226265\n",
      "[114]\tvalid_0's multi_logloss: 0.0222035\n",
      "[115]\tvalid_0's multi_logloss: 0.0217447\n",
      "[116]\tvalid_0's multi_logloss: 0.0213047\n",
      "[117]\tvalid_0's multi_logloss: 0.0209104\n",
      "[118]\tvalid_0's multi_logloss: 0.0205363\n",
      "[119]\tvalid_0's multi_logloss: 0.0201765\n",
      "[120]\tvalid_0's multi_logloss: 0.0197431\n",
      "[121]\tvalid_0's multi_logloss: 0.0193834\n",
      "[122]\tvalid_0's multi_logloss: 0.0190222\n",
      "[123]\tvalid_0's multi_logloss: 0.0186572\n",
      "[124]\tvalid_0's multi_logloss: 0.0183098\n",
      "[125]\tvalid_0's multi_logloss: 0.0179201\n",
      "[126]\tvalid_0's multi_logloss: 0.0176337\n",
      "[127]\tvalid_0's multi_logloss: 0.0173136\n",
      "[128]\tvalid_0's multi_logloss: 0.0170179\n",
      "[129]\tvalid_0's multi_logloss: 0.0167013\n",
      "[130]\tvalid_0's multi_logloss: 0.016414\n",
      "[131]\tvalid_0's multi_logloss: 0.0160651\n",
      "[132]\tvalid_0's multi_logloss: 0.0158236\n",
      "[133]\tvalid_0's multi_logloss: 0.0155493\n",
      "[134]\tvalid_0's multi_logloss: 0.0153098\n",
      "[135]\tvalid_0's multi_logloss: 0.0150783\n",
      "[136]\tvalid_0's multi_logloss: 0.0148244\n",
      "[137]\tvalid_0's multi_logloss: 0.0145647\n",
      "[138]\tvalid_0's multi_logloss: 0.0142886\n",
      "[139]\tvalid_0's multi_logloss: 0.0140168\n",
      "[140]\tvalid_0's multi_logloss: 0.0137604\n",
      "[141]\tvalid_0's multi_logloss: 0.0135494\n",
      "[142]\tvalid_0's multi_logloss: 0.0133087\n",
      "[143]\tvalid_0's multi_logloss: 0.0130807\n",
      "[144]\tvalid_0's multi_logloss: 0.0128402\n",
      "[145]\tvalid_0's multi_logloss: 0.0126421\n",
      "[146]\tvalid_0's multi_logloss: 0.0124402\n",
      "[147]\tvalid_0's multi_logloss: 0.0122435\n",
      "[148]\tvalid_0's multi_logloss: 0.0120389\n",
      "[149]\tvalid_0's multi_logloss: 0.0118364\n",
      "[150]\tvalid_0's multi_logloss: 0.0116636\n",
      "[151]\tvalid_0's multi_logloss: 0.011417\n",
      "[152]\tvalid_0's multi_logloss: 0.011245\n",
      "[153]\tvalid_0's multi_logloss: 0.0110494\n",
      "[154]\tvalid_0's multi_logloss: 0.0108903\n",
      "[155]\tvalid_0's multi_logloss: 0.0107082\n",
      "[156]\tvalid_0's multi_logloss: 0.0104698\n",
      "[157]\tvalid_0's multi_logloss: 0.0103207\n",
      "[158]\tvalid_0's multi_logloss: 0.0101298\n",
      "[159]\tvalid_0's multi_logloss: 0.00995193\n",
      "[160]\tvalid_0's multi_logloss: 0.00975324\n",
      "[161]\tvalid_0's multi_logloss: 0.00959579\n",
      "[162]\tvalid_0's multi_logloss: 0.00944099\n",
      "[163]\tvalid_0's multi_logloss: 0.00928126\n",
      "[164]\tvalid_0's multi_logloss: 0.00911459\n",
      "[165]\tvalid_0's multi_logloss: 0.00897353\n",
      "[166]\tvalid_0's multi_logloss: 0.00883304\n",
      "[167]\tvalid_0's multi_logloss: 0.00868496\n",
      "[168]\tvalid_0's multi_logloss: 0.00856128\n",
      "[169]\tvalid_0's multi_logloss: 0.00841491\n",
      "[170]\tvalid_0's multi_logloss: 0.0082574\n",
      "[171]\tvalid_0's multi_logloss: 0.00811066\n",
      "[172]\tvalid_0's multi_logloss: 0.00797481\n",
      "[173]\tvalid_0's multi_logloss: 0.00781316\n",
      "[174]\tvalid_0's multi_logloss: 0.00766897\n",
      "[175]\tvalid_0's multi_logloss: 0.00754161\n",
      "[176]\tvalid_0's multi_logloss: 0.00741624\n",
      "[177]\tvalid_0's multi_logloss: 0.0072989\n",
      "[178]\tvalid_0's multi_logloss: 0.00718037\n",
      "[179]\tvalid_0's multi_logloss: 0.00707827\n",
      "[180]\tvalid_0's multi_logloss: 0.00694993\n",
      "[181]\tvalid_0's multi_logloss: 0.00684179\n",
      "[182]\tvalid_0's multi_logloss: 0.00674841\n",
      "[183]\tvalid_0's multi_logloss: 0.00664502\n",
      "[184]\tvalid_0's multi_logloss: 0.00653482\n",
      "[185]\tvalid_0's multi_logloss: 0.00641026\n",
      "[186]\tvalid_0's multi_logloss: 0.00629174\n",
      "[187]\tvalid_0's multi_logloss: 0.00620032\n",
      "[188]\tvalid_0's multi_logloss: 0.0060965\n",
      "[189]\tvalid_0's multi_logloss: 0.00600119\n",
      "[190]\tvalid_0's multi_logloss: 0.00590868\n",
      "[191]\tvalid_0's multi_logloss: 0.0058098\n",
      "[192]\tvalid_0's multi_logloss: 0.00569944\n",
      "[193]\tvalid_0's multi_logloss: 0.00560123\n",
      "[194]\tvalid_0's multi_logloss: 0.00551064\n",
      "[195]\tvalid_0's multi_logloss: 0.00541664\n",
      "[196]\tvalid_0's multi_logloss: 0.00533019\n",
      "[197]\tvalid_0's multi_logloss: 0.0052346\n",
      "[198]\tvalid_0's multi_logloss: 0.00513266\n",
      "[199]\tvalid_0's multi_logloss: 0.00505563\n",
      "[200]\tvalid_0's multi_logloss: 0.00497338\n",
      "[201]\tvalid_0's multi_logloss: 0.00490017\n",
      "[202]\tvalid_0's multi_logloss: 0.00481398\n",
      "[203]\tvalid_0's multi_logloss: 0.00473306\n",
      "[204]\tvalid_0's multi_logloss: 0.00465651\n",
      "[205]\tvalid_0's multi_logloss: 0.00457496\n",
      "[206]\tvalid_0's multi_logloss: 0.00448935\n",
      "[207]\tvalid_0's multi_logloss: 0.00441715\n",
      "[208]\tvalid_0's multi_logloss: 0.00435924\n",
      "[209]\tvalid_0's multi_logloss: 0.00429285\n",
      "[210]\tvalid_0's multi_logloss: 0.00423116\n",
      "[211]\tvalid_0's multi_logloss: 0.0041658\n",
      "[212]\tvalid_0's multi_logloss: 0.00410418\n",
      "[213]\tvalid_0's multi_logloss: 0.00403686\n",
      "[214]\tvalid_0's multi_logloss: 0.00395556\n",
      "[215]\tvalid_0's multi_logloss: 0.00388454\n",
      "[216]\tvalid_0's multi_logloss: 0.00381876\n",
      "[217]\tvalid_0's multi_logloss: 0.00375746\n",
      "[218]\tvalid_0's multi_logloss: 0.00370238\n",
      "[219]\tvalid_0's multi_logloss: 0.00364539\n",
      "[220]\tvalid_0's multi_logloss: 0.00357801\n",
      "[221]\tvalid_0's multi_logloss: 0.00351998\n",
      "[222]\tvalid_0's multi_logloss: 0.00345831\n",
      "[223]\tvalid_0's multi_logloss: 0.00340549\n",
      "[224]\tvalid_0's multi_logloss: 0.0033519\n",
      "[225]\tvalid_0's multi_logloss: 0.00329666\n",
      "[226]\tvalid_0's multi_logloss: 0.00324014\n",
      "[227]\tvalid_0's multi_logloss: 0.00318458\n",
      "[228]\tvalid_0's multi_logloss: 0.00313257\n",
      "[229]\tvalid_0's multi_logloss: 0.0030809\n",
      "[230]\tvalid_0's multi_logloss: 0.00303858\n",
      "[231]\tvalid_0's multi_logloss: 0.00299121\n",
      "[232]\tvalid_0's multi_logloss: 0.00293407\n",
      "[233]\tvalid_0's multi_logloss: 0.00288949\n",
      "[234]\tvalid_0's multi_logloss: 0.00283546\n",
      "[235]\tvalid_0's multi_logloss: 0.00278807\n",
      "[236]\tvalid_0's multi_logloss: 0.00274486\n",
      "[237]\tvalid_0's multi_logloss: 0.00270739\n",
      "[238]\tvalid_0's multi_logloss: 0.00266771\n",
      "[239]\tvalid_0's multi_logloss: 0.00262928\n",
      "[240]\tvalid_0's multi_logloss: 0.00258628\n",
      "[241]\tvalid_0's multi_logloss: 0.00254294\n",
      "[242]\tvalid_0's multi_logloss: 0.00250812\n",
      "[243]\tvalid_0's multi_logloss: 0.00246197\n",
      "[244]\tvalid_0's multi_logloss: 0.00242554\n",
      "[245]\tvalid_0's multi_logloss: 0.00238704\n",
      "[246]\tvalid_0's multi_logloss: 0.00235039\n",
      "[247]\tvalid_0's multi_logloss: 0.00230664\n",
      "[248]\tvalid_0's multi_logloss: 0.00227234\n",
      "[249]\tvalid_0's multi_logloss: 0.00222935\n",
      "[250]\tvalid_0's multi_logloss: 0.00219468\n",
      "[251]\tvalid_0's multi_logloss: 0.00215905\n",
      "[252]\tvalid_0's multi_logloss: 0.00212786\n",
      "[253]\tvalid_0's multi_logloss: 0.00209439\n",
      "[254]\tvalid_0's multi_logloss: 0.00205926\n",
      "[255]\tvalid_0's multi_logloss: 0.00202565\n",
      "[256]\tvalid_0's multi_logloss: 0.00199297\n",
      "[257]\tvalid_0's multi_logloss: 0.00196006\n",
      "[258]\tvalid_0's multi_logloss: 0.00192412\n",
      "[259]\tvalid_0's multi_logloss: 0.0018944\n",
      "[260]\tvalid_0's multi_logloss: 0.00186389\n",
      "[261]\tvalid_0's multi_logloss: 0.00183342\n",
      "[262]\tvalid_0's multi_logloss: 0.0017975\n",
      "[263]\tvalid_0's multi_logloss: 0.00177064\n",
      "[264]\tvalid_0's multi_logloss: 0.00174581\n",
      "[265]\tvalid_0's multi_logloss: 0.00171822\n",
      "[266]\tvalid_0's multi_logloss: 0.00169111\n",
      "[267]\tvalid_0's multi_logloss: 0.00166243\n",
      "[268]\tvalid_0's multi_logloss: 0.00163772\n",
      "[269]\tvalid_0's multi_logloss: 0.00161226\n",
      "[270]\tvalid_0's multi_logloss: 0.00158947\n",
      "[271]\tvalid_0's multi_logloss: 0.00156172\n",
      "[272]\tvalid_0's multi_logloss: 0.00153778\n",
      "[273]\tvalid_0's multi_logloss: 0.00151078\n",
      "[274]\tvalid_0's multi_logloss: 0.00148806\n",
      "[275]\tvalid_0's multi_logloss: 0.00146705\n",
      "[276]\tvalid_0's multi_logloss: 0.00144277\n",
      "[277]\tvalid_0's multi_logloss: 0.00142173\n",
      "[278]\tvalid_0's multi_logloss: 0.00139723\n",
      "[279]\tvalid_0's multi_logloss: 0.00137661\n",
      "[280]\tvalid_0's multi_logloss: 0.00135502\n",
      "[281]\tvalid_0's multi_logloss: 0.00133647\n",
      "[282]\tvalid_0's multi_logloss: 0.00131599\n",
      "[283]\tvalid_0's multi_logloss: 0.00129975\n",
      "[284]\tvalid_0's multi_logloss: 0.00127923\n",
      "[285]\tvalid_0's multi_logloss: 0.00125945\n",
      "[286]\tvalid_0's multi_logloss: 0.00124324\n",
      "[287]\tvalid_0's multi_logloss: 0.00122318\n",
      "[288]\tvalid_0's multi_logloss: 0.00120492\n",
      "[289]\tvalid_0's multi_logloss: 0.00118463\n",
      "[290]\tvalid_0's multi_logloss: 0.00116321\n",
      "[291]\tvalid_0's multi_logloss: 0.001144\n",
      "[292]\tvalid_0's multi_logloss: 0.00112846\n",
      "[293]\tvalid_0's multi_logloss: 0.00111107\n",
      "[294]\tvalid_0's multi_logloss: 0.00109449\n",
      "[295]\tvalid_0's multi_logloss: 0.00107544\n",
      "[296]\tvalid_0's multi_logloss: 0.0010605\n",
      "[297]\tvalid_0's multi_logloss: 0.0010445\n",
      "[298]\tvalid_0's multi_logloss: 0.00102768\n",
      "[299]\tvalid_0's multi_logloss: 0.0010143\n",
      "[300]\tvalid_0's multi_logloss: 0.000993827\n"
     ]
    }
   ],
   "source": [
    "model = fit_model(X_train, y_train, X_eval, y_eval)"
   ]
  },
  {
   "cell_type": "markdown",
   "metadata": {},
   "source": [
    "# Save Model"
   ]
  },
  {
   "cell_type": "code",
   "execution_count": 16,
   "metadata": {},
   "outputs": [
    {
     "data": {
      "text/plain": [
       "<lightgbm.basic.Booster at 0x7f3598081cd0>"
      ]
     },
     "execution_count": 16,
     "metadata": {},
     "output_type": "execute_result"
    }
   ],
   "source": [
    "model.booster_.save_model('../artifacts/model.txt')"
   ]
  }
 ],
 "metadata": {
  "kernelspec": {
   "display_name": "Python 3",
   "language": "python",
   "name": "python3"
  },
  "language_info": {
   "codemirror_mode": {
    "name": "ipython",
    "version": 3
   },
   "file_extension": ".py",
   "mimetype": "text/x-python",
   "name": "python",
   "nbconvert_exporter": "python",
   "pygments_lexer": "ipython3",
   "version": "3.8.5"
  }
 },
 "nbformat": 4,
 "nbformat_minor": 4
}
